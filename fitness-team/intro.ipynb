{
 "cells": [
  {
   "cell_type": "code",
   "execution_count": 1,
   "metadata": {},
   "outputs": [],
   "source": [
    "import json\n",
    "from agents import Agent, Runner, TResponseInputItem"
   ]
  },
  {
   "cell_type": "code",
   "execution_count": 2,
   "metadata": {},
   "outputs": [],
   "source": [
    "import os\n",
    "\n",
    "MODEL = os.getenv(\"OPENAI_MODEL\")"
   ]
  },
  {
   "cell_type": "code",
   "execution_count": 3,
   "metadata": {},
   "outputs": [],
   "source": [
    "primary_agent = Agent(\n",
    "    name=\"Fitness Assistant\",\n",
    "    instructions=\"\"\"\n",
    "    You are a fitness assistant that helps understand a user, their fitness profile, \n",
    "    their fitness profile, and their preferences and goals to provide personalized\n",
    "    recommendations and guidance\n",
    "    \"\"\",\n",
    "    model=MODEL\n",
    ")"
   ]
  },
  {
   "cell_type": "code",
   "execution_count": 4,
   "metadata": {},
   "outputs": [
    {
     "name": "stdout",
     "output_type": "stream",
     "text": [
      "Fitness Assistant: Absolutely! Here's a fitness plan tailored for a 150 lb male looking to improve cardiovascular fitness and endurance, with workouts three times a week at the gym.\n",
      "\n",
      "### Weekly Gym Fitness Plan\n",
      "\n",
      "#### Overview:\n",
      "- **Frequency:** 3 days a week (e.g., Monday, Wednesday, Friday)\n",
      "- **Duration:** 45-60 minutes per session\n",
      "- **Focus:** Cardio endurance and overall fitness\n",
      "\n",
      "### Day 1: Cardio Endurance\n",
      "\n",
      "**Warm-Up (5-10 mins):**\n",
      "- Dynamic stretches (arm circles, leg swings)\n",
      "- 5 mins brisk walk or light jog on the treadmill\n",
      "\n",
      "**Main Workout (30-40 mins):**\n",
      "1. **Treadmill Intervals:**\n",
      "   - 5 mins moderate pace jog (RPE 6/10)\n",
      "   - 1 min sprint (RPE 9/10)\n",
      "   - 2 mins brisk walk (RPE 5/10)\n",
      "   - Repeat above intervals 5 times\n",
      "2. **Cooldown (5 mins):**\n",
      "   - 5 mins walking on a treadmill, gradually slowing down\n",
      "\n",
      "**Cool-Down and Stretch (5-10 mins):**\n",
      "- Stretch major muscle groups (hamstrings, quadriceps, calves)\n",
      "\n",
      "---\n",
      "\n",
      "### Day 2: Cross-Training\n",
      "\n",
      "**Warm-Up (5-10 mins):**\n",
      "- Dynamic stretches\n",
      "- 5 mins cycling at a low resistance\n",
      "\n",
      "**Main Workout (30-40 mins):**\n",
      "1. **Rowing Machine:**\n",
      "   - Row at a steady moderate pace for 20 mins\n",
      "2. **Bodyweight Circuit (Repeat 2-3 times):**\n",
      "   - Push-ups: 10-15 reps\n",
      "   - Bodyweight squats: 15-20 reps\n",
      "   - Plank: 30-60 seconds\n",
      "   - High knees: 30 seconds\n",
      "\n",
      "**Cool-Down (5 mins):**\n",
      "- Slow-paced rowing or walking, followed by static stretching\n",
      "\n",
      "---\n",
      "\n",
      "### Day 3: Steady-State Cardio\n",
      "\n",
      "**Warm-Up (5-10 mins):**\n",
      "- Jump rope or dynamic stretches\n",
      "\n",
      "**Main Workout (30-40 mins):**\n",
      "1. **Cycle Ergometer:**\n",
      "   - 30-40 mins at a steady moderate effort, maintaining a target heart rate (60-70% of max heart rate)\n",
      "2. **Optional Core Work:**\n",
      "   - Bicycle crunches: 15-20 reps\n",
      "   - Russian twists: 15-20 reps\n",
      "   - Leg raises: 10-15 reps\n",
      "\n",
      "**Cool-Down (5 mins):**\n",
      "- Gradual decrease in cycling speed followed by stretching\n",
      "\n",
      "---\n",
      "\n",
      "### Tips for Success:\n",
      "- **Stay Hydrated:** Drink water before, during, and after workouts.\n",
      "- **Rest and Recovery:** Ensure adequate sleep and consider light stretching or yoga on off days.\n",
      "- **Nutrition:** Eat balanced meals with a focus on lean proteins, whole grains, healthy fats, and plenty of fruits and vegetables to fuel workouts and support recovery.\n",
      "- **Listen to Your Body:** Modify workouts as needed based on your energy levels and any discomfort.\n",
      "\n",
      "### Goal Progression:\n",
      "- Gradually increase the intensity, duration, or frequency of workouts as you build endurance and fitness levels over the weeks.\n",
      "\n",
      "Feel free to adjust any exercises based on personal preferences or equipment availability!\n"
     ]
    }
   ],
   "source": [
    "result = await Runner.run(\n",
    "    starting_agent=primary_agent,\n",
    "    input=\"Generate a fitness plan for a 150lb male who wants to go the gym 3x a week. Focus on cardio and endurance\"\n",
    ")\n",
    "\n",
    "print(f\"Fitness Assistant: {result.final_output}\")"
   ]
  },
  {
   "cell_type": "code",
   "execution_count": null,
   "metadata": {},
   "outputs": [],
   "source": []
  }
 ],
 "metadata": {
  "kernelspec": {
   "display_name": "venv",
   "language": "python",
   "name": "python3"
  },
  "language_info": {
   "codemirror_mode": {
    "name": "ipython",
    "version": 3
   },
   "file_extension": ".py",
   "mimetype": "text/x-python",
   "name": "python",
   "nbconvert_exporter": "python",
   "pygments_lexer": "ipython3",
   "version": "3.10.12"
  }
 },
 "nbformat": 4,
 "nbformat_minor": 2
}
